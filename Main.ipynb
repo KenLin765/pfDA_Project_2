{
 "cells": [
  {
   "cell_type": "markdown",
   "id": "a2d3cd73",
   "metadata": {},
   "source": [
    "# A Study on the Breast Cancer Wisconsin (Diagnostic) Data Set"
   ]
  },
  {
   "cell_type": "markdown",
   "id": "a24dd05b",
   "metadata": {},
   "source": [
    "## Introduction"
   ]
  },
  {
   "cell_type": "markdown",
   "id": "0f260a49",
   "metadata": {},
   "source": [
    "This study will look at the Breast Cancer Wisconsin (Diagnostic) Data Set using Python using Pandas, Seaborn and SKLearn to perfrom data analysis on the dataset. The original Wisconsin-Breast Cancer (Diagnostics) dataset (WBC) from UCI machine learning repository is a classification dataset, which records the measurements for breast cancer cases. There are two classes, benign and malignant. The malignant class of this dataset is downsampled to 21 points, which are considered as outliers, while points in the benign class are considered inliers. [1]\n",
    "\n",
    "Walid Theib Mohammad provides more info on the dataset as \"Recent advances in science make it possible to evaluate tumor staging and point out the specific treatment. However, these advances must be combined with the availability of resources and the easy operability of the technique.\" Mohammad also advises \"In addition, various algorithms and techniques used in data mining were measured with success percentages, and the most successful ones on the dataset were determined and compared with each other.\" \n",
    "\n",
    "The first part of my analysis will be a an analysis/review of the dataset and present an overview and background."
   ]
  },
  {
   "cell_type": "code",
   "execution_count": null,
   "id": "78306261",
   "metadata": {},
   "outputs": [],
   "source": [
    "import numpy as np\n",
    " \n",
    "import pandas as pd\n",
    " \n",
    "import matplotlib.pyplot as plt"
   ]
  },
  {
   "cell_type": "markdown",
   "id": "404566ad",
   "metadata": {},
   "source": [
    "## Overview Analysis of the Dataset"
   ]
  },
  {
   "cell_type": "code",
   "execution_count": null,
   "id": "02c7864e",
   "metadata": {},
   "outputs": [],
   "source": []
  }
 ],
 "metadata": {
  "kernelspec": {
   "display_name": "Python 3 (ipykernel)",
   "language": "python",
   "name": "python3"
  },
  "language_info": {
   "codemirror_mode": {
    "name": "ipython",
    "version": 3
   },
   "file_extension": ".py",
   "mimetype": "text/x-python",
   "name": "python",
   "nbconvert_exporter": "python",
   "pygments_lexer": "ipython3",
   "version": "3.9.7"
  }
 },
 "nbformat": 4,
 "nbformat_minor": 5
}
